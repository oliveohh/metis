{
 "cells": [
  {
   "cell_type": "markdown",
   "id": "999a0a19",
   "metadata": {},
   "source": [
    "# 2001 Hurricane Season Impact on MTA Ridership \n",
    "**CLIENT & NEED**\n",
    "\n",
    "*Client:* NYC Extreme Weather Task Force\n",
    "\n",
    "*Need:* Climate change is increasing extreme weather patterns in NYC, and the Extreme Weather Task Force was recently launched following the deadly impacts of Tropical Storm Ida in 2021 to improve citywide planning and response to these events. The Task Force needs transit data on storm system events to target MTA capital improvements and emergency planning strategies.\n",
    "\n",
    "**GOAL**\n",
    "\n",
    "For 2021 hurricane season ID stations with highest impacts to service during and following storm events\n",
    "\n",
    "**DATA**\n",
    "\n",
    "- MTA Turnstile Data for August - October 2021 (http://web.mta.info/developers/turnstile.html)\n",
    "- National Weather Service Storm Warning Data for New York for August - October 2021 (https://nwschat.weather.gov/lsr/#OKX/202108010700/202111010659/0100)"
   ]
  },
  {
   "cell_type": "markdown",
   "id": "78c80d8c",
   "metadata": {},
   "source": [
    "## A. Data Import & Cleaning"
   ]
  },
  {
   "cell_type": "code",
   "execution_count": 2,
   "id": "84ec67d0",
   "metadata": {},
   "outputs": [],
   "source": [
    "import pandas as pd\n",
    "import numpy as np\n",
    "import matplotlib.pyplot as plt\n",
    "import seaborn as sns\n",
    "from datetime import datetime\n",
    "from sqlalchemy import create_engine"
   ]
  },
  {
   "cell_type": "markdown",
   "id": "cf0b0cc3",
   "metadata": {},
   "source": [
    "### A.1 Import & Clean Data: MTA\n",
    "**Pull turnstile data from MTA for August - October 2021**\n",
    "\n",
    "*Citation: referred to MTA exercise solution code to support data pull and cleanup*"
   ]
  },
  {
   "cell_type": "code",
   "execution_count": 4,
   "id": "9678939e",
   "metadata": {},
   "outputs": [],
   "source": [
    "engine = create_engine('sqlite:///my-sqlite.db')\n",
    "engine.table_names"
   ]
  },
  {
   "cell_type": "code",
   "execution_count": null,
   "id": "6bf97f3f",
   "metadata": {},
   "outputs": [],
   "source": [
    "def mtapull(week_lst):\n",
    "    url = \"http://web.mta.info/developers/data/nyct/turnstile/turnstile_{}.txt\"\n",
    "    mta_dfs = []\n",
    "    for week in week_lst:\n",
    "        mta_url = url.format(week)\n",
    "        mta_dfs.append(pd.read_csv(mta_url, parse_dates = [['DATE','TIME']], keep_date_col = True))\n",
    "    return pd.concat(mta_dfs)\n",
    "\n",
    "weeks = ['211030','211023','211016','211009','211002','210925','210918','210911','210904','210828','210821','210814','210807','210731']\n",
    "mta_df = mtapull(weeks)"
   ]
  },
  {
   "cell_type": "code",
   "execution_count": null,
   "id": "22466d0c",
   "metadata": {},
   "outputs": [],
   "source": [
    "#clean columns\n",
    "mta_df.columns = mta_df.columns.str.lower()\n",
    "mta_df.columns = mta_df.columns.str.strip()\n",
    "mta_df.rename(columns={'c/a':'c-a'}, inplace = True)\n",
    "mta_df.columns"
   ]
  },
  {
   "cell_type": "code",
   "execution_count": null,
   "id": "21aa9e14",
   "metadata": {},
   "outputs": [],
   "source": [
    "#create unique id for each stile\n",
    "mta_df[\"stile_id\"] = mta_df[\"station\"] + mta_df['scp'] + mta_df['unit'] + mta_df['c-a']"
   ]
  },
  {
   "cell_type": "code",
   "execution_count": null,
   "id": "2bcad4a6",
   "metadata": {},
   "outputs": [],
   "source": [
    "#check for correct number of weeks/months\n",
    "mta_df.date.value_counts().sort_index()"
   ]
  },
  {
   "cell_type": "code",
   "execution_count": null,
   "id": "ebd4b9af",
   "metadata": {},
   "outputs": [],
   "source": [
    "#check for dupes\n",
    "mta_df[\"desc\"].value_counts()"
   ]
  },
  {
   "cell_type": "code",
   "execution_count": null,
   "id": "093e2499",
   "metadata": {},
   "outputs": [],
   "source": [
    "mta_df.duplicated(subset = ['date_time','stile_id']).value_counts()"
   ]
  },
  {
   "cell_type": "code",
   "execution_count": null,
   "id": "8166d423",
   "metadata": {},
   "outputs": [],
   "source": [
    "mta_df.groupby([\"stile_id\", \"date_time\"]).entries.count().reset_index().sort_values(\"entries\", ascending=False).head(5)"
   ]
  },
  {
   "cell_type": "code",
   "execution_count": null,
   "id": "e6a53e48",
   "metadata": {},
   "outputs": [],
   "source": [
    "mta_df[mta_df.duplicated(subset = ['date_time','stile_id']) == True]['desc'].value_counts()"
   ]
  },
  {
   "cell_type": "code",
   "execution_count": null,
   "id": "340e920b",
   "metadata": {},
   "outputs": [],
   "source": [
    "mta_df[\n",
    "    (mta_df['stile_id'] == 'ST. GEORGE00-00-02R070S101') &\n",
    "    (mta_df['date'] == '09/15/2021')\n",
    "]"
   ]
  },
  {
   "cell_type": "code",
   "execution_count": null,
   "id": "f887eed2",
   "metadata": {},
   "outputs": [],
   "source": [
    "#drop dupes\n",
    "mta_df.drop_duplicates(subset=[\"stile_id\", \"date_time\"],inplace=True)"
   ]
  },
  {
   "cell_type": "code",
   "execution_count": null,
   "id": "3b986540",
   "metadata": {},
   "outputs": [],
   "source": [
    "mta_df[\n",
    "    (mta_df['stile_id'] == 'ST. GEORGE00-00-02R070S101') &\n",
    "    (mta_df['date'] == '09/14/2021')\n",
    "]"
   ]
  },
  {
   "cell_type": "code",
   "execution_count": null,
   "id": "cc0a8fbb",
   "metadata": {},
   "outputs": [],
   "source": [
    "mta_df[mta_df.duplicated(subset = ['date_time','stile_id']) == True]['desc'].value_counts()"
   ]
  },
  {
   "cell_type": "code",
   "execution_count": null,
   "id": "aa3bef02",
   "metadata": {},
   "outputs": [],
   "source": [
    "mta_df.groupby([\"stile_id\", \"date_time\"]).entries.count().reset_index().sort_values(\"entries\", ascending=False).head(5)"
   ]
  },
  {
   "cell_type": "code",
   "execution_count": null,
   "id": "7721aa8f",
   "metadata": {},
   "outputs": [],
   "source": [
    "#create daily stile data table\n",
    "stiles_daily_df = (mta_df.groupby(['stile_id','c-a','unit','scp','station','date'],as_index=False)[['entries','exits']].last())"
   ]
  },
  {
   "cell_type": "code",
   "execution_count": null,
   "id": "13a7d318",
   "metadata": {},
   "outputs": [],
   "source": [
    "stiles_daily_df"
   ]
  },
  {
   "cell_type": "code",
   "execution_count": null,
   "id": "4e672972",
   "metadata": {},
   "outputs": [],
   "source": [
    "#create daily stile entry/exit columns\n",
    "#shift columns\n",
    "stiles_daily_df[['prev_date','prev_entries','prev_exits']] = (stiles_daily_df\n",
    "                                                              .groupby('stile_id')[['date','entries','exits']]\n",
    "                                                              .apply(lambda grp: grp.shift(1)))"
   ]
  },
  {
   "cell_type": "code",
   "execution_count": null,
   "id": "2f94733e",
   "metadata": {},
   "outputs": [],
   "source": [
    "#check that shift is correct\n",
    "stiles_daily_df[stiles_daily_df['date'] == '07/24/2021'].info()"
   ]
  },
  {
   "cell_type": "code",
   "execution_count": null,
   "id": "6e370a2d",
   "metadata": {},
   "outputs": [],
   "source": [
    "#drop NaN rows\n",
    "stiles_daily_df.dropna(subset = ['prev_date'], inplace = True)"
   ]
  },
  {
   "cell_type": "code",
   "execution_count": null,
   "id": "d4b4d044",
   "metadata": {},
   "outputs": [],
   "source": [
    "#create daily entry / exit columns\n",
    "stiles_daily_df.head()"
   ]
  },
  {
   "cell_type": "code",
   "execution_count": null,
   "id": "ad93e3fa",
   "metadata": {},
   "outputs": [],
   "source": [
    "#check for reversed values\n",
    "stiles_daily_df[\n",
    "    (stiles_daily_df['prev_entries']) > (stiles_daily_df['entries'])\n",
    "].tail()"
   ]
  },
  {
   "cell_type": "code",
   "execution_count": null,
   "id": "5a00ab17",
   "metadata": {},
   "outputs": [],
   "source": [
    "stiles_daily_df[\n",
    "    (stiles_daily_df['prev_entries']) > (stiles_daily_df['entries'])\n",
    "].groupby('stile_id').size()"
   ]
  },
  {
   "cell_type": "code",
   "execution_count": null,
   "id": "bd5a8c88",
   "metadata": {},
   "outputs": [],
   "source": [
    "#function to replace reversed values and reset counter values\n",
    "def get_daily_counts(row, max_counter, stile_col, prev_stile_col):\n",
    "    counter = row[stile_col] - row[prev_stile_col]\n",
    "    if counter < 0:\n",
    "        # reversed counter\n",
    "        counter = -counter\n",
    "    if counter > max_counter:\n",
    "        # reset counter\n",
    "        print(row[stile_col], row[prev_stile_col])\n",
    "        counter = min(row[stile_col], row[prev_stile_col])\n",
    "    if counter > max_counter:\n",
    "        # reset counter check\n",
    "        return 0\n",
    "    return counter\n",
    "\n",
    "_ = stiles_daily_df.apply(get_daily_counts, axis=1, max_counter=1000000, stile_col = 'entries', prev_stile_col = 'prev_entries')"
   ]
  },
  {
   "cell_type": "code",
   "execution_count": null,
   "id": "7c8bebd7",
   "metadata": {},
   "outputs": [],
   "source": [
    "_ = stiles_daily_df.apply(get_daily_counts, axis=1, max_counter=1000000, stile_col = 'exits', prev_stile_col = 'prev_exits')"
   ]
  },
  {
   "cell_type": "code",
   "execution_count": null,
   "id": "9406997d",
   "metadata": {},
   "outputs": [],
   "source": [
    "#create daily entries / exits columns\n",
    "stiles_daily_df[\"daily_entries\"] = stiles_daily_df.apply(get_daily_counts, axis=1, max_counter=1000000, stile_col = 'entries', prev_stile_col = 'prev_entries')\n",
    "stiles_daily_df[\"daily_exits\"] = stiles_daily_df.apply(get_daily_counts, axis=1, max_counter=1000000, stile_col = 'exits', prev_stile_col = 'prev_exits')"
   ]
  },
  {
   "cell_type": "code",
   "execution_count": null,
   "id": "cd9c7f56",
   "metadata": {},
   "outputs": [],
   "source": [
    "stiles_daily_df.head()"
   ]
  },
  {
   "cell_type": "code",
   "execution_count": null,
   "id": "25088567",
   "metadata": {},
   "outputs": [],
   "source": [
    "#create station level df\n",
    "station_daily_df = stiles_daily_df.groupby(['station','date'])[['daily_entries','daily_exits']].sum().reset_index()\n",
    "station_daily_df.info()"
   ]
  },
  {
   "cell_type": "code",
   "execution_count": null,
   "id": "9db26dc0",
   "metadata": {},
   "outputs": [],
   "source": [
    "#convert date to dt\n",
    "station_daily_df['date'] = pd.to_datetime(station_daily_df.date)"
   ]
  },
  {
   "cell_type": "code",
   "execution_count": null,
   "id": "19fde4c7",
   "metadata": {},
   "outputs": [],
   "source": [
    "station_daily_df.info()"
   ]
  },
  {
   "cell_type": "code",
   "execution_count": null,
   "id": "d1697923",
   "metadata": {},
   "outputs": [],
   "source": [
    "station_daily_df.head()"
   ]
  },
  {
   "cell_type": "markdown",
   "id": "16466022",
   "metadata": {},
   "source": [
    "### A.2 Import & Clean Data: NWS Storm Warning Data\n",
    "**Download storm warning csv from National Weather Service for August - October 2021**<br>\n",
    "*note: attempted to retrieve via API but it was too complicated for me to do successfully*"
   ]
  },
  {
   "cell_type": "code",
   "execution_count": null,
   "id": "db41732a",
   "metadata": {},
   "outputs": [],
   "source": [
    "nws_df = pd.read_csv('/Users/oliviaoffutt/Desktop/Data_Science/Metis_EDA/MTA_Project/Raw_Data/NWS_alerts.csv')"
   ]
  },
  {
   "cell_type": "code",
   "execution_count": null,
   "id": "5056416b",
   "metadata": {},
   "outputs": [],
   "source": [
    "#check columns for white space\n",
    "nws_df.columns"
   ]
  },
  {
   "cell_type": "code",
   "execution_count": null,
   "id": "89c67885",
   "metadata": {},
   "outputs": [],
   "source": [
    "#check nulls\n",
    "nws_df.info()"
   ]
  },
  {
   "cell_type": "code",
   "execution_count": null,
   "id": "416f171d",
   "metadata": {},
   "outputs": [],
   "source": [
    "#convert date to dt\n",
    "nws_df['date'] = pd.to_datetime(nws_df.date)\n",
    "nws_df.info()"
   ]
  },
  {
   "cell_type": "code",
   "execution_count": null,
   "id": "ff310fdc",
   "metadata": {},
   "outputs": [],
   "source": [
    "nws_df.head()"
   ]
  },
  {
   "cell_type": "markdown",
   "id": "a3b19efb",
   "metadata": {},
   "source": [
    "### A.3 Merging DataFrames"
   ]
  },
  {
   "cell_type": "code",
   "execution_count": null,
   "id": "096b5084",
   "metadata": {},
   "outputs": [],
   "source": [
    "# ID days by whether or not they include a nws storm advisory (T/F)\n",
    "nws_df_temp = nws_df[[\"date\",\"event\"]]\n",
    "mta_station_df = pd.merge(station_daily_df, nws_df_temp, on='date', how='left')\n",
    "mta_station_df = mta_station_df.drop_duplicates()\n",
    "mta_station_df = mta_station_df.reset_index(drop=True)"
   ]
  },
  {
   "cell_type": "code",
   "execution_count": null,
   "id": "e29cd651",
   "metadata": {},
   "outputs": [],
   "source": [
    "mta_station_df.head(3)"
   ]
  },
  {
   "cell_type": "code",
   "execution_count": null,
   "id": "adf86b80",
   "metadata": {},
   "outputs": [],
   "source": [
    "mta_station_df[mta_station_df['event'] == 'FLASH FLOOD'].head(3)"
   ]
  },
  {
   "cell_type": "code",
   "execution_count": null,
   "id": "90e5034a",
   "metadata": {},
   "outputs": [],
   "source": [
    "# ID days by weekday / weekend\n",
    "mta_station_df['day'] = pd.to_datetime(mta_station_df['date']).dt.dayofweek\n",
    "mta_station_df['week'] = pd.to_datetime(mta_station_df['date']).dt.week\n",
    "mta_station_df.head(3)"
   ]
  },
  {
   "cell_type": "code",
   "execution_count": null,
   "id": "fa05619a",
   "metadata": {},
   "outputs": [],
   "source": [
    "weekday_map = {0:True,\n",
    "              1:True,\n",
    "              2:True,\n",
    "              3:True,\n",
    "              4:True,\n",
    "              5:False,\n",
    "              6:False}\n",
    "mta_station_df['weekday'] = mta_station_df['day'].map(weekday_map)"
   ]
  },
  {
   "cell_type": "code",
   "execution_count": null,
   "id": "ca9cb785",
   "metadata": {},
   "outputs": [],
   "source": [
    "mta_station_df.head(3)"
   ]
  },
  {
   "cell_type": "markdown",
   "id": "597e160f",
   "metadata": {},
   "source": [
    "### A.4 Review Clean DataFrames"
   ]
  },
  {
   "cell_type": "code",
   "execution_count": null,
   "id": "e7494ebe",
   "metadata": {},
   "outputs": [],
   "source": [
    "mta_station_df = mta_station_df[[\"station\",\"event\",\"date\",\"day\",\"weekday\",\"week\",\"daily_entries\",\"daily_exits\"]]\n",
    "mta_station_df.head(1)"
   ]
  },
  {
   "cell_type": "code",
   "execution_count": null,
   "id": "82a948b4",
   "metadata": {
    "scrolled": true
   },
   "outputs": [],
   "source": [
    "nws_df = nws_df[[\"date\",\"event\",\"location\",\"county\"]]\n",
    "nws_df.head(1)"
   ]
  },
  {
   "cell_type": "markdown",
   "id": "8d40645f",
   "metadata": {},
   "source": [
    "## B. Data Analysis\n",
    "\n",
    "For 2021 hurricane season (August 2021 - October 2021, ID stations with highest impacts to service during and following storm events**\n",
    "\n",
    "*Output*                                     \n",
    "- Plot daily entry data during storm weeks vs non-storm weeks\n",
    "- ID top 10 stations that experience largest decreases in service by (a) magnitude (b) percent of average daily entries"
   ]
  },
  {
   "cell_type": "markdown",
   "id": "fd6a2b27",
   "metadata": {},
   "source": [
    "### B.1 Explore Weather Data"
   ]
  },
  {
   "cell_type": "code",
   "execution_count": null,
   "id": "208e594a",
   "metadata": {},
   "outputs": [],
   "source": [
    "#import date formatter\n",
    "import matplotlib.dates as mdates\n",
    "\n",
    "years = mdates.YearLocator()   # every year\n",
    "months = mdates.MonthLocator()  # every month\n",
    "years_fmt = mdates.DateFormatter('%Y')\n",
    "\n",
    "dt_fmt = mdates.DateFormatter('%d')\n",
    "\n",
    "#create necessary style variables\n",
    "colors = sns.color_palette('Paired')[0:5]"
   ]
  },
  {
   "cell_type": "code",
   "execution_count": null,
   "id": "c19d1c92",
   "metadata": {},
   "outputs": [],
   "source": [
    "#create table: number of flash flood events by county\n",
    "nws_df_bycounty = nws_df[['county','event']].groupby('county').count().sort_values('event', ascending = False).reset_index()\n",
    "nws_df_bycounty"
   ]
  },
  {
   "cell_type": "code",
   "execution_count": null,
   "id": "873146e7",
   "metadata": {},
   "outputs": [],
   "source": [
    "#create chart: % share of flash flood events by county\n",
    "storm_plt_1 = plt.pie(nws_df_bycounty['event'], labels = list(nws_df_bycounty['county']), colors = colors, autopct='%1.0f%%')\n",
    "plt.title(\"% Share of Total Flood Events, by County, Aug-Oct 2021\", fontsize = 12)\n",
    "\n",
    "storm_plt_1"
   ]
  },
  {
   "cell_type": "markdown",
   "id": "5c494fc5",
   "metadata": {},
   "source": [
    "**FINDINGS**: More than two-thirds of flood events (72%) were located in Queens and Kings."
   ]
  },
  {
   "cell_type": "code",
   "execution_count": null,
   "id": "0062b095",
   "metadata": {},
   "outputs": [],
   "source": [
    "#create table: number of flash flood events by date, county\n",
    "nws_df_bydatecounty = nws_df[['date','county','event']].groupby(['date','county']).count().sort_values(['date','event']).reset_index()\n",
    "nws_df_bydatecounty = nws_df_bydatecounty.astype({'date': 'str'})\n",
    "nws_df_bydatecounty"
   ]
  },
  {
   "cell_type": "code",
   "execution_count": null,
   "id": "a1e38ecd",
   "metadata": {},
   "outputs": [],
   "source": [
    "#create chart: number of flood events by date, county\n",
    "storm_plt_2 = sns.barplot(x = 'date', y = 'event', hue = 'county', data = nws_df_bydatecounty, palette = 'Paired')\n",
    "plt.xlabel(\"Date\", fontsize = 10)\n",
    "plt.ylabel(\"Number of Flood Warnings\", fontsize = 10)\n",
    "plt.title(\"Number of Flood Events, by Date and County, Aug-Oct 2021\", fontsize = 12)"
   ]
  },
  {
   "cell_type": "markdown",
   "id": "9e15b548",
   "metadata": {},
   "source": [
    "**FINDINGS**: \n",
    "- During the study period, there were two primary storm events that caused flooding, (a) 08-21 to 08-22 (b) 09-01 (Tropical Storm Ida)\n",
    "- While the first storm had more sustained flooding, Ida had more severe flooding"
   ]
  },
  {
   "cell_type": "markdown",
   "id": "1a3fa351",
   "metadata": {},
   "source": [
    "### B.2 Explore Transit Data\n",
    "\n",
    "*Method*\n",
    "1. 8/21-22 storm event == Sat/Sun, wk 33; 9/1 storm event == Wednesday, wk 35\n",
    "    - Can compare weekend storm event to average of all other weekends not in storm weekend\n",
    "    - Can compare weekday storm event to average of all other weekdays not in storm week"
   ]
  },
  {
   "cell_type": "code",
   "execution_count": null,
   "id": "5be57324",
   "metadata": {},
   "outputs": [],
   "source": [
    "#ID True/False if a storm happened during that week\n",
    "stormwk_map = {33: True,\n",
    "              35: True}\n",
    "mta_station_df['storm_wk'] = mta_station_df['week'].map(stormwk_map)\n",
    "mta_station_df['storm_wk'] = mta_station_df.storm_wk.fillna(False)\n",
    "mta_station_df.head()"
   ]
  },
  {
   "cell_type": "code",
   "execution_count": null,
   "id": "e5d3e898",
   "metadata": {},
   "outputs": [],
   "source": [
    "## create storm-week and non-storm-week totals for weekends and 5-day work weeks\n",
    "weekly_sum = mta_station_df.groupby(['week','weekday','storm_wk']).daily_entries.sum().reset_index()\n",
    "weekly_sum"
   ]
  },
  {
   "cell_type": "code",
   "execution_count": null,
   "id": "3a312e36",
   "metadata": {},
   "outputs": [],
   "source": [
    "# renumber weeks\n",
    "weekly_sum['week'] = weekly_sum['week'].transform(lambda x: x-29)"
   ]
  },
  {
   "cell_type": "code",
   "execution_count": null,
   "id": "ccdf1ac4",
   "metadata": {},
   "outputs": [],
   "source": [
    "weekly_sum"
   ]
  },
  {
   "cell_type": "code",
   "execution_count": null,
   "id": "362e5822",
   "metadata": {},
   "outputs": [],
   "source": [
    "#drop first and last week (incomplete data)\n",
    "weekly_sum = weekly_sum.drop(0)\n",
    "weekly_sum = weekly_sum.drop(27)\n",
    "weekly_sum = weekly_sum.reset_index(drop = True)"
   ]
  },
  {
   "cell_type": "code",
   "execution_count": null,
   "id": "e04d2c87",
   "metadata": {
    "scrolled": true
   },
   "outputs": [],
   "source": [
    "#create graph\n",
    "plt.figure(figsize =(15,5))\n",
    "sns.lineplot(x = 'week', y = 'daily_entries', hue = 'weekday', data = weekly_sum, palette = 'Paired')\n",
    "plt.xlabel(\"Week Number (Week 4 and Week 6 are Storm Weeks)\", fontsize = 10)\n",
    "plt.ylabel(\"MTA Station Entries (tens of millions)\", fontsize = 10)\n",
    "plt.title(\"Total MTA Station Entries by Week, Aug-Oct 2021\", fontsize = 12)\n",
    "plt.legend(title='', loc='upper left', labels=['Weekend (Sa-Su)', 'Work Week (M-F)'])"
   ]
  },
  {
   "cell_type": "markdown",
   "id": "08ba0796",
   "metadata": {},
   "source": [
    "**FINDINGS - Work Week**: \n",
    "- Only storm Ida (wk 6) has a significant drop in entries for the work week. This can be explained from 2 angles: \n",
    "    - (1) While both storms caused flooding, storm Ida had significantly more total floods and more extreme floods- it was an extreme weather event at the level of a tropical storm.\n",
    "    - (2) Ida hit during the work week, while the August flooding events hit during the weekend\n",
    "- Aug as a whole has lower entry numbers compared to Sep and Oct, perhaps due to summer holidays\n",
    "- Week 6 experienced a particularly low drop, followed by sustained increases over the following two weeks where it them seems to return to a more sustained weekly rate. This might indicate that entry recovery for storm Ida (wk 6) may have taken 2 weeks, though this impact might be reduced significantly (even to zero) when controlled for normal annual traffic increases from summer to fall. \n",
    "\n",
    "**FINDINGS - Weekend**: \n",
    "- Weekend entries do not seem to be impacted by storms. This could be due to: (1) storm intensity/recovery, (2) lower MTA use overall, (3) and/or that stations most impacted by storm flooding are largely commuter stations.\n",
    "- Even though week 4's flooding occurred over a weekend, there does not appear to be any impact.\n",
    "- Week 8 has a suspiciously high number of entries - with more time I would look into whether this is an error or a real increase."
   ]
  },
  {
   "cell_type": "code",
   "execution_count": null,
   "id": "539fd9d6",
   "metadata": {},
   "outputs": [],
   "source": [
    "## create storm-week and non-storm-week averages for weekends and 5-day work weeks\n",
    "weekly_average = weekly_sum.groupby(['weekday','storm_wk']).daily_entries.mean().reset_index()\n",
    "weekly_average['daily_entries'] = weekly_average['daily_entries'].transform(lambda x: round(x))\n",
    "weekly_average"
   ]
  },
  {
   "cell_type": "code",
   "execution_count": null,
   "id": "6b85d497",
   "metadata": {},
   "outputs": [],
   "source": [
    "#workweek nonstorm entries standard deviation\n",
    "workweek_entries_std = weekly_sum[\n",
    "    (weekly_sum['weekday'] == True) &\n",
    "    (weekly_sum['storm_wk'] == False)\n",
    "]['daily_entries'].std()\n",
    "workweek_entries_std = round(workweek_entries_std,2)\n",
    "workweek_entries_std"
   ]
  },
  {
   "cell_type": "code",
   "execution_count": null,
   "id": "c8022365",
   "metadata": {},
   "outputs": [],
   "source": [
    "#weekend nonstorm entries standard deviation\n",
    "weekend_entries_std = weekly_sum[\n",
    "    (weekly_sum['weekday'] == False) &\n",
    "    (weekly_sum['storm_wk'] == False)\n",
    "]['daily_entries'].std()\n",
    "weekend_entries_std = round(weekend_entries_std,2)\n",
    "weekend_entries_std"
   ]
  },
  {
   "cell_type": "code",
   "execution_count": null,
   "id": "be4b2b12",
   "metadata": {},
   "outputs": [],
   "source": [
    "#create graph\n",
    "sns.barplot(x = 'weekday', y = 'daily_entries', hue = 'storm_wk', data = weekly_average, palette = 'Paired')\n",
    "plt.xlabel(\"\", fontsize = 10)\n",
    "plt.ylabel(\"MTA Station Entries (tens of millions)\", fontsize = 10)\n",
    "plt.title(\"Weekend and Work Week Average Weekly Station Entries, Aug-Oct 2021\", fontsize = 12)\n",
    "plt.xticks([0,1],['Weekend (Sa-Su)','Work Week (M-F)'])"
   ]
  },
  {
   "cell_type": "markdown",
   "id": "da84fadd",
   "metadata": {},
   "source": [
    "### Findings\n",
    "\n",
    "- As observed, weekend average total mta entries during non-storm weeks vs storm weeks is nearly the same. The difference is a little over 600,000 entries, well below the standard deviation of 1.04 million entries\n",
    "- On the other hand, the weekday average total mta entries during non-storm weeks vs storm weeks appears to be significantly different. The difference is 12.5 million entries, with the standard deviation being 1.89 million. "
   ]
  },
  {
   "cell_type": "code",
   "execution_count": null,
   "id": "e4692965",
   "metadata": {},
   "outputs": [],
   "source": [
    "#pre-post storm ida (wk 6) comparison by station\n",
    "#drop incomplete weeks and rename weeks starting at 1\n",
    "mta_station_df = mta_station_df[\n",
    "    (mta_station_df['week'] > 29) &\n",
    "    (mta_station_df['week'] < 43)\n",
    "]\n",
    "mta_station_df['week'] = mta_station_df.week.transform(lambda x: x-29)"
   ]
  },
  {
   "cell_type": "code",
   "execution_count": null,
   "id": "14b449ac",
   "metadata": {},
   "outputs": [],
   "source": [
    "mta_station_df.head()"
   ]
  },
  {
   "cell_type": "code",
   "execution_count": null,
   "id": "4dc6fee0",
   "metadata": {},
   "outputs": [],
   "source": [
    "#weekly sums by station\n",
    "station_wkly_sum_df = mta_station_df.groupby(['station','week'])['station','daily_entries','storm_wk'].sum('daily_entries').reset_index()"
   ]
  },
  {
   "cell_type": "code",
   "execution_count": null,
   "id": "949e5053",
   "metadata": {},
   "outputs": [],
   "source": [
    "station_wkly_sum_df.head(6)"
   ]
  },
  {
   "cell_type": "code",
   "execution_count": null,
   "id": "b21b426a",
   "metadata": {},
   "outputs": [],
   "source": [
    "#Look only at weeks prior and after ida\n",
    "ida_df = station_wkly_sum_df[\n",
    "    (station_wkly_sum_df['week'] >4) &\n",
    "    (station_wkly_sum_df['week'] <8)\n",
    "]"
   ]
  },
  {
   "cell_type": "code",
   "execution_count": null,
   "id": "54867583",
   "metadata": {},
   "outputs": [],
   "source": [
    "ida_df.head(6)"
   ]
  },
  {
   "cell_type": "code",
   "execution_count": null,
   "id": "178cbfe7",
   "metadata": {},
   "outputs": [],
   "source": [
    "#calculate entries decreases for wk 6 (storm) and 7 (post storm) compared to wk 5 (pre storm)\n",
    "wk_5_entries = ida_df.groupby('station')[['daily_entries']].first().reset_index()"
   ]
  },
  {
   "cell_type": "code",
   "execution_count": null,
   "id": "3bc84380",
   "metadata": {},
   "outputs": [],
   "source": [
    "ida_df = pd.merge(ida_df, wk_5_entries, on='station', how='left')"
   ]
  },
  {
   "cell_type": "code",
   "execution_count": null,
   "id": "cd5947d4",
   "metadata": {},
   "outputs": [],
   "source": [
    "ida_df['pre_strm_diff'] = ida_df['daily_entries_x'] - ida_df['daily_entries_y']"
   ]
  },
  {
   "cell_type": "code",
   "execution_count": null,
   "id": "91028325",
   "metadata": {},
   "outputs": [],
   "source": [
    "ida_df['pre_strm_diff_pct'] = ida_df['pre_strm_diff'] / ida_df['daily_entries_y']"
   ]
  },
  {
   "cell_type": "code",
   "execution_count": null,
   "id": "566dfc50",
   "metadata": {},
   "outputs": [],
   "source": [
    "#look at week 6 (storm week) decreases by station\n",
    "ida_wk6_pct_top = ida_df[(ida_df['week'] == 6)].sort_values(by = ['pre_strm_diff_pct']).head(10)"
   ]
  },
  {
   "cell_type": "code",
   "execution_count": null,
   "id": "58de6dbc",
   "metadata": {},
   "outputs": [],
   "source": [
    "ida_wk6_pct_top_mrg = pd.merge(ida_wk6_pct_top, ida_df, on='station', how='left')"
   ]
  },
  {
   "cell_type": "code",
   "execution_count": null,
   "id": "467fa2ef",
   "metadata": {},
   "outputs": [],
   "source": [
    "ida_wk6_pct_top_mrg = ida_wk6_pct_top_mrg[['station','week_y','daily_entries_x_y','pre_strm_diff_y','pre_strm_diff_pct_y']]"
   ]
  },
  {
   "cell_type": "code",
   "execution_count": null,
   "id": "39570b1a",
   "metadata": {},
   "outputs": [],
   "source": [
    "ida_wk6_pct_top_mrg.head()"
   ]
  },
  {
   "cell_type": "code",
   "execution_count": null,
   "id": "89574709",
   "metadata": {},
   "outputs": [],
   "source": [
    "#create graph\n",
    "sns.barplot(x = 'station', y = 'daily_entries_x_y', hue = 'week_y', data = ida_wk6_pct_top_mrg, palette = 'Paired')\n",
    "plt.xlabel(\"Stations\", fontsize = 10)\n",
    "plt.ylabel(\"MTA Station Entries\", fontsize = 10)\n",
    "plt.title(\"Stations with Largest Percent Decrease in Ridership:\" + \"\\n\" + \" Week 6 (Storm Week) Compared to Week 5 (Pre-Storm)\", fontsize = 12)\n",
    "plt.xticks(rotation=90)"
   ]
  },
  {
   "cell_type": "code",
   "execution_count": null,
   "id": "4791386f",
   "metadata": {},
   "outputs": [],
   "source": [
    "#create graph\n",
    "sns.barplot(x = 'station', y = 'pre_strm_diff_pct', data = ida_wk6_pct_top, palette = 'Paired', ci=None)\n",
    "plt.xlabel(\"Stations\", fontsize = 10)\n",
    "plt.ylabel(\"% Decrease in MTA Station Entries\", fontsize = 10)\n",
    "plt.title(\"Stations with Largest Percent Decrease in Ridership:\" + \"\\n\" + \" Week 6 (Storm Week) Compared to Week 5 (Pre-Storm)\", fontsize = 12)\n",
    "plt.xticks(rotation=90)"
   ]
  },
  {
   "cell_type": "code",
   "execution_count": null,
   "id": "162a7694",
   "metadata": {},
   "outputs": [],
   "source": [
    "#look at week 7 (post storm week) decreases by station\n",
    "ida_wk7_pct_top = ida_df[(ida_df['week'] == 7)].sort_values(by = ['pre_strm_diff_pct']).head(11).reset_index(drop = True)\n",
    "ida_wk7_pct_top"
   ]
  },
  {
   "cell_type": "code",
   "execution_count": null,
   "id": "45b5de00",
   "metadata": {},
   "outputs": [],
   "source": [
    "#drop outlier Orchard Beach\n",
    "ida_wk7_pct_top = ida_wk7_pct_top.loc[1:10]\n",
    "ida_wk7_pct_top"
   ]
  },
  {
   "cell_type": "code",
   "execution_count": null,
   "id": "4f900034",
   "metadata": {},
   "outputs": [],
   "source": [
    "ida_wk7_pct_top_mrg = pd.merge(ida_wk7_pct_top, ida_df, on='station', how='left')"
   ]
  },
  {
   "cell_type": "code",
   "execution_count": null,
   "id": "e24f7ae2",
   "metadata": {},
   "outputs": [],
   "source": [
    "ida_wk7_pct_top_mrg = ida_wk7_pct_top_mrg[['station','week_y','daily_entries_x_y','pre_strm_diff_y','pre_strm_diff_pct_y']]"
   ]
  },
  {
   "cell_type": "code",
   "execution_count": null,
   "id": "b43923cb",
   "metadata": {},
   "outputs": [],
   "source": [
    "ida_wk7_pct_top_mrg.head()"
   ]
  },
  {
   "cell_type": "code",
   "execution_count": null,
   "id": "a6bb987b",
   "metadata": {},
   "outputs": [],
   "source": [
    "#create graph\n",
    "sns.barplot(x = 'station', y = 'daily_entries_x_y', hue = 'week_y', data = ida_wk7_pct_top_mrg, palette = 'Paired')\n",
    "plt.xlabel(\"Stations\", fontsize = 10)\n",
    "plt.ylabel(\"MTA Station Entries\", fontsize = 10)\n",
    "plt.title(\"Stations with Largest Percent Decrease in Ridership:\" + \"\\n\" + \" Week 7 (Post-Storm) Compared to Week 5 (Pre-Storm)\", fontsize = 12)\n",
    "plt.xticks(rotation=90)"
   ]
  },
  {
   "cell_type": "code",
   "execution_count": null,
   "id": "fb8442d3",
   "metadata": {},
   "outputs": [],
   "source": [
    "#create graph\n",
    "sns.barplot(x = 'station', y = 'pre_strm_diff_pct', data = ida_wk7_pct_top, palette = 'Paired', ci=None)\n",
    "plt.xlabel(\"Stations\", fontsize = 10)\n",
    "plt.ylabel(\"% Decrease in MTA Station Entries\", fontsize = 10)\n",
    "plt.title(\"Stations with Largest Percent Decrease in Ridership:\" + \"\\n\" + \" Week 7 (Storm Week) Compared to Week 5 (Pre-Storm)\", fontsize = 12)\n",
    "plt.xticks(rotation=90)"
   ]
  }
 ],
 "metadata": {
  "kernelspec": {
   "display_name": "Python [conda env:metis] *",
   "language": "python",
   "name": "conda-env-metis-py"
  },
  "language_info": {
   "codemirror_mode": {
    "name": "ipython",
    "version": 3
   },
   "file_extension": ".py",
   "mimetype": "text/x-python",
   "name": "python",
   "nbconvert_exporter": "python",
   "pygments_lexer": "ipython3",
   "version": "3.10.4"
  }
 },
 "nbformat": 4,
 "nbformat_minor": 5
}
